{
  "nbformat": 4,
  "nbformat_minor": 0,
  "metadata": {
    "colab": {
      "provenance": []
    },
    "kernelspec": {
      "name": "python3",
      "display_name": "Python 3"
    },
    "language_info": {
      "name": "python"
    }
  },
  "cells": [
    {
      "cell_type": "markdown",
      "source": [
        "# GitHub Test\n",
        "\n",
        "This notebook is designed to help you get started with GitHub.\n",
        "\n",
        "**Instructions**\n",
        "\n",
        "1. Save this notebook to Google Drive:  \"File\" >> \"Save a copy in drive\"\n",
        "2. Click on the title to rename the notebook (upper left) to include your name.\n",
        "3. Double click this cell to make it editable.\n",
        "4. Write your name below.\n",
        "\n",
        "Your name:  \n",
        "\n",
        "5. Save the revised copy of the notebook to your GitHub Repo."
      ],
      "metadata": {
        "id": "iC0TUOCaDPlW"
      }
    }
  ]
}