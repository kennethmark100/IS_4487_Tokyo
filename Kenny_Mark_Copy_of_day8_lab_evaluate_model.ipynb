{
  "cells": [
    {
      "cell_type": "markdown",
      "metadata": {
        "id": "view-in-github",
        "colab_type": "text"
      },
      "source": [
        "<a href=\"https://colab.research.google.com/github/kennethmark100/IS_4487_Tokyo/blob/main/Kenny_Mark_Copy_of_day8_lab_evaluate_model.ipynb\" target=\"_parent\"><img src=\"https://colab.research.google.com/assets/colab-badge.svg\" alt=\"Open In Colab\"/></a>"
      ]
    },
    {
      "cell_type": "markdown",
      "metadata": {
        "id": "p_Yu45OYdj3Y"
      },
      "source": [
        "# Day 8 Lab, IS 4487\n",
        "\n",
        "What do you need to know how to do for today's project?\n",
        "\n",
        "1. Fit a tree model using all the available predictors.\n",
        "2. Create a confusion matrix  and identify numbers of TP, FP, TN and FN.\n",
        "3. Estimate profit (benefits - costs) using a defined cost-benefit matrix and a confusion matrix for:\n",
        "  - all customers\n",
        "  - only the customer predicted to answer\n",
        "\n",
        "Of course, for this lab we'll be using the MegaTelCo data, in which case the target is `leave` not `answer`.  \n",
        "\n",
        "Note that the first set of steps below is identical to what we did in the previous lab.\n",
        "\n",
        "\n"
      ]
    },
    {
      "cell_type": "markdown",
      "metadata": {
        "id": "UE93RwXhgiJS"
      },
      "source": [
        "#Load Libraries\n"
      ]
    },
    {
      "cell_type": "code",
      "execution_count": null,
      "metadata": {
        "id": "JYRZY5n0gfNe"
      },
      "outputs": [],
      "source": [
        "# Import packages needed for the classification tree\n",
        "from sklearn.tree import plot_tree\n",
        "from sklearn import tree\n",
        "from sklearn.tree import DecisionTreeClassifier, export_graphviz # Import Decision Tree Classifier\n",
        "import pandas as pd\n",
        "import matplotlib.pyplot as plt\n",
        "import numpy as np\n"
      ]
    },
    {
      "cell_type": "markdown",
      "metadata": {
        "id": "bREaXo8jfu-O"
      },
      "source": [
        "# Get Data\n"
      ]
    },
    {
      "cell_type": "code",
      "execution_count": null,
      "metadata": {
        "id": "udYgkb6I3SJo"
      },
      "outputs": [],
      "source": [
        "mtc = pd.read_csv(\"https://raw.githubusercontent.com/jefftwebb/is_4487_base/dd870389117d5b24eee7417d5378d80496555130/Labs/DataSets/megatelco_leave_survey.csv\")"
      ]
    },
    {
      "cell_type": "markdown",
      "metadata": {
        "id": "BtxOWvFlKzgE"
      },
      "source": [
        "# Clean data\n",
        "\n",
        "Perform the cleaning from the previous labs:\n",
        "\n",
        "- Make a copy of the data\n",
        "- Remove negative values of income and house\n",
        "- Remove absurdly large value of handset_price\n",
        "- Remove NAs\n",
        "- Change college to yes and no\n",
        "- Make string variables into categorical variables.\n",
        "- Convert the now ordered categorical levels into integers.\n"
      ]
    },
    {
      "cell_type": "code",
      "execution_count": null,
      "metadata": {
        "id": "7KXLvMcBK8Za"
      },
      "outputs": [],
      "source": [
        "# Make explicit copy\n",
        "mtc_clean = mtc.copy()\n",
        "\n",
        "# filter rows\n",
        "mtc_clean = mtc[(mtc['house'] > 0) & (mtc['income'] > 0) & (mtc['handset_price'] < 1000)]\n",
        "\n",
        "# remove NAs\n",
        "mtc_clean = mtc_clean.dropna()\n",
        "\n",
        "# Recode college\n",
        "mtc_clean['college'] = mtc_clean['college'].replace({'one': 'yes', 'zero': 'no'})\n",
        "\n",
        "# change reported usage and reported satisfaction (ordered)\n",
        "mtc_clean['college'] = pd.Categorical(mtc_clean['college'],\n",
        "                                    ordered = False).codes\n",
        "\n",
        "mtc_clean['considering_change_of_plan'] = pd.Categorical(mtc_clean['considering_change_of_plan'],\n",
        "                                    ordered = False).codes\n",
        "\n",
        "# change reported usage and reported satisfaction (ordered)\n",
        "mtc_clean['reported_usage_level'] = pd.Categorical(mtc_clean['reported_usage_level'],\n",
        "                                    categories = ['low', 'avg','high'],\n",
        "                                    ordered = True).codes\n",
        "\n",
        "mtc_clean['reported_satisfaction'] = pd.Categorical(mtc_clean['reported_satisfaction'],\n",
        "                                    categories = ['low', 'avg','high'],\n",
        "                                    ordered = True).codes\n",
        "\n",
        "\n"
      ]
    },
    {
      "cell_type": "markdown",
      "metadata": {
        "id": "Zp7wGDqJ4iuL"
      },
      "source": [
        "# Fit full model\n",
        "\n",
        "1. Split the data into train and test sets\n",
        "2. Fit the model to the train set using `max_depth = 4` to keep the tree simple and prevent overfitting."
      ]
    },
    {
      "cell_type": "code",
      "execution_count": null,
      "metadata": {
        "id": "gvMekcKg4y5X"
      },
      "outputs": [],
      "source": [
        "# 1. divide mtc_clean into train and test\n",
        "train = mtc_clean.sample(frac=0.8, random_state=200) # 80% of data for training\n",
        "test = mtc_clean.drop(train.index) # the remaining 20%\n",
        "\n",
        "\n",
        "# 2. Define X and y in train and test\n",
        "X_train = train.drop(['id', 'leave'], axis = 1)\n",
        "y_train = train['leave']\n",
        "\n",
        "X_test = test.drop(['id', 'leave'], axis = 1)\n",
        "y_test = test['leave']\n",
        "\n",
        "# 3.  Initialize model, specifying max_depth = 4\n",
        "full_tree = DecisionTreeClassifier(criterion = \"entropy\", max_depth = 4)\n",
        "\n",
        "# 4. Fit model to train data\n",
        "full_tree = full_tree.fit(X_train, y_train)"
      ]
    },
    {
      "cell_type": "markdown",
      "metadata": {
        "id": "-I66jKusS_Xe"
      },
      "source": [
        "# Create a confusion matrix\n",
        "\n",
        "The confusion matrix will show counts of false positives, true positives, false negatives and true negatives. Essentially it provides a window into how the model is performing--where it is making mistakes.\n",
        "\n",
        "Remember that the confusion matrix will display TP, FP, TN and FN *on the test set*.  Thus:\n",
        "\n",
        "1. Fit the model on the train set\n",
        "2. Evaluate the model on test set\n",
        "\n"
      ]
    },
    {
      "cell_type": "code",
      "source": [
        "# Get model predictions\n",
        "pred = full_tree.predict(X = X_test)\n"
      ],
      "metadata": {
        "id": "XaXPt2wmeJHQ"
      },
      "execution_count": null,
      "outputs": []
    },
    {
      "cell_type": "code",
      "source": [
        "pred[0:5,]"
      ],
      "metadata": {
        "id": "2-uMPp0hsW3x",
        "colab": {
          "base_uri": "https://localhost:8080/"
        },
        "outputId": "0ede1b95-7919-4603-ba31-07b52f671b0a"
      },
      "execution_count": null,
      "outputs": [
        {
          "output_type": "execute_result",
          "data": {
            "text/plain": [
              "array(['STAY', 'LEAVE', 'LEAVE', 'LEAVE', 'LEAVE'], dtype=object)"
            ]
          },
          "metadata": {},
          "execution_count": 67
        }
      ]
    },
    {
      "cell_type": "code",
      "source": [
        "# create a confusion matrix using the Display.from_predictions function\n",
        "from sklearn.metrics import ConfusionMatrixDisplay\n",
        "\n",
        "ConfusionMatrixDisplay.from_predictions(y_test, pred)"
      ],
      "metadata": {
        "id": "RgZ_Mc3rUv-K",
        "colab": {
          "base_uri": "https://localhost:8080/",
          "height": 485
        },
        "outputId": "806e1963-f461-4a18-ae10-7cfaa601f34f"
      },
      "execution_count": null,
      "outputs": [
        {
          "output_type": "execute_result",
          "data": {
            "text/plain": [
              "<sklearn.metrics._plot.confusion_matrix.ConfusionMatrixDisplay at 0x78b073be3b80>"
            ]
          },
          "metadata": {},
          "execution_count": 68
        },
        {
          "output_type": "display_data",
          "data": {
            "text/plain": [
              "<Figure size 640x480 with 2 Axes>"
            ],
            "image/png": "[encoded data removed]"
          },
          "metadata": {}
        }
      ]
    },
    {
      "cell_type": "markdown",
      "source": [
        "Explanation of code:\n",
        "\n",
        "- `ConfusionMatrixDisplay.from_predictions(y, pred)`: creates a confusion matrix in a heatmap format."
      ],
      "metadata": {
        "id": "d8VYOWViuBSm"
      }
    },
    {
      "cell_type": "markdown",
      "source": [
        "It is typical to put the predictions in the columns.  But what matters is that you are able to identify the following categories--and associated counts-- from the table:\n",
        "\n",
        "- TP--predicted to leave and actually left:  395\n",
        "- FP--predicted to leave but stayed:  218\n",
        "- TN--predicted to stay and stayed: 297\n",
        "- FN--predicted to stay but left: 89   \n",
        "\n",
        "These numbers are related to accuracy.  (TP + TN)/ total = accuracy.  \n",
        "\n",
        "Go ahead and do the calculations."
      ],
      "metadata": {
        "id": "D9PYLQg4m-RN"
      }
    },
    {
      "cell_type": "code",
      "source": [
        "# Calculate accuracy from the confusion matrix\n",
        "print(\"Accuracy:\", (395 + 297) / (395 + 218 + 89 + 297))"
      ],
      "metadata": {
        "id": "z2mR2u0gnPr_",
        "colab": {
          "base_uri": "https://localhost:8080/"
        },
        "outputId": "29e28543-b799-49db-ed4e-253d96229f98"
      },
      "execution_count": null,
      "outputs": [
        {
          "output_type": "stream",
          "name": "stdout",
          "text": [
            "Accuracy: 0.6926926926926927\n"
          ]
        }
      ]
    },
    {
      "cell_type": "code",
      "source": [
        "# Verify by comparing test predictions and test observations using the code\n",
        "# from previous lab 7\n",
        "sum(pred == y_test) / len(y_test)"
      ],
      "metadata": {
        "id": "AcqhHvgHncN5",
        "colab": {
          "base_uri": "https://localhost:8080/"
        },
        "outputId": "c731b894-84fe-4d8c-ba95-403a024825e2"
      },
      "execution_count": null,
      "outputs": [
        {
          "output_type": "execute_result",
          "data": {
            "text/plain": [
              "0.6926926926926927"
            ]
          },
          "metadata": {},
          "execution_count": 70
        }
      ]
    },
    {
      "cell_type": "markdown",
      "metadata": {
        "id": "vTC161_b9kWm"
      },
      "source": [
        "# Calculate Profit\n",
        "\n",
        "Using the above confusion matrix how much profit (revenue - costs) could be expected with the following costs-benefits?\n",
        "\n",
        "For MegaTelCo we will assume:\n",
        "- benefit (revenue) = 800\n",
        "- cost = 200  \n",
        "\n",
        "TPs are a benefit, FPs are a cost. Again, we ignore those predicted to stay.\n",
        "\n",
        "Why do we ignore those who are predicted to stay??\n",
        "\n",
        "Note that the cost-benefit numbers will be different in the AdviseInvest case! Costs and benefits are very context dependent.\n",
        "\n",
        "Why are TPs a benefit? In the MegaTelCo scenario, these are customers who are predicted to leave and actually were going to leave. If your marketing campaign is successful, then you can convince them to stay, thereby saving the company money. (In the AdviseInvest scenario the situation is a little different. TPs are customers that you have predicted will answer the phone and do answer, thus providing an opportunity for your sales reps to make a sale.)\n",
        "\n",
        "**Assume you can save 100% of the people who were actually going to leave.**\n",
        "\n",
        "Here is the calculation:\n",
        "\n",
        "- Multiply TP (the true leavers) x 600 (benefit - cost).  These are the leave-leave people in the confusion matrix who would have been  retained due to your marketing campaign.\n",
        "- Multiply FP (the false leavers) x 200 (cost). These are the leave-stay people in the confusion matrix who churned. They got the offer but were going to stay anyway.  You wasted your money."
      ]
    },
    {
      "cell_type": "code",
      "execution_count": null,
      "metadata": {
        "id": "y3BHSJu-9s8z",
        "colab": {
          "base_uri": "https://localhost:8080/"
        },
        "outputId": "ad588bfe-a223-419a-a093-b067a66a4e07"
      },
      "outputs": [
        {
          "output_type": "execute_result",
          "data": {
            "text/plain": [
              "193400"
            ]
          },
          "metadata": {},
          "execution_count": 71
        }
      ],
      "source": [
        "# Calculate profit for targeting only those predicted to leave\n",
        "\n",
        "(800-200)*395 -200 * 218"
      ]
    },
    {
      "cell_type": "markdown",
      "source": [
        "So, this strategy would show a profit.  But we need to compare this against the default strategy not using a model at all, which would entail marketing to all customers.\n",
        "\n",
        "What would profit be in that case?"
      ],
      "metadata": {
        "id": "3cNzzRqSpu1Q"
      }
    },
    {
      "cell_type": "code",
      "source": [
        "# Calculate profit for targeting everyone\n",
        "\n",
        "# hint: use the proportion of leavers and stayers in test\n",
        "y_test.value_counts()\n",
        "\n",
        "484 * 600 -200 * 515"
      ],
      "metadata": {
        "id": "w8eEYPYks0xT",
        "colab": {
          "base_uri": "https://localhost:8080/"
        },
        "outputId": "9e65aa87-c228-448d-a244-f1ad3453aefb"
      },
      "execution_count": null,
      "outputs": [
        {
          "output_type": "execute_result",
          "data": {
            "text/plain": [
              "187400"
            ]
          },
          "metadata": {},
          "execution_count": 72
        }
      ]
    },
    {
      "cell_type": "markdown",
      "source": [
        "Which strategy will show more profit: targeting everyone or targeting only those predicted to leave?"
      ],
      "metadata": {
        "id": "CZFbmqYEtJmJ"
      }
    },
    {
      "cell_type": "markdown",
      "source": [
        "# Adjust the decision threshold\n",
        "\n",
        "As discussed in the lecture, we can adjust the class decision threshold up or down to shift the numbers around in the confusion matrix.  This will impact profit.\n",
        "\n",
        "So far we have used the default for classifying the positive class: the majority, meaning a probability of .5 or greater.\n",
        "\n",
        "Let's try a threshold of .7.\n",
        "\n",
        "1. Predict probabilities rather than a label, again using the test set. We will use the awkwardly named function `predict_proba().` This returns a two column numpy array, with two probabilities for each observation."
      ],
      "metadata": {
        "id": "LOvXx2sguVuy"
      }
    },
    {
      "cell_type": "code",
      "source": [
        "# Predict probabilities for X_test\n",
        "pred_prob = full_tree.predict_proba(X = X_test)\n",
        "\n",
        "# Check that it worked\n",
        "pred_prob[:5,]"
      ],
      "metadata": {
        "id": "qqJrjE0p7Yg1",
        "colab": {
          "base_uri": "https://localhost:8080/"
        },
        "outputId": "3249d0da-9d01-4d0a-db0b-6efa457083ef"
      },
      "execution_count": null,
      "outputs": [
        {
          "output_type": "execute_result",
          "data": {
            "text/plain": [
              "array([[0.15291262, 0.84708738],\n",
              "       [0.77182236, 0.22817764],\n",
              "       [0.67639257, 0.32360743],\n",
              "       [0.77182236, 0.22817764],\n",
              "       [0.52884615, 0.47115385]])"
            ]
          },
          "metadata": {},
          "execution_count": 73
        }
      ]
    },
    {
      "cell_type": "markdown",
      "source": [
        "\n",
        "\n",
        "2. Turn the probabilities > .7 into a `LEAVE` for use in the confusion matrix. For this operation we'll use the `where()` function from numpy. `pred_prob` is an array with two columns. We'll need to be sure to use the first column.  Why first? the order corresponds to the order of the levels in `leave`, which is alphabetic, with `LEAVE` first."
      ],
      "metadata": {
        "id": "AyaSh8VS8Jfr"
      }
    },
    {
      "cell_type": "code",
      "source": [
        "pred_labels = np.where(pred_prob[:,0] > 0.7, \"LEAVE\", \"STAY\")\n",
        "pred_labels[:5,]"
      ],
      "metadata": {
        "id": "6XZqfPycCElv",
        "colab": {
          "base_uri": "https://localhost:8080/"
        },
        "outputId": "6427d464-d67f-489e-d054-ac0bb260412e"
      },
      "execution_count": null,
      "outputs": [
        {
          "output_type": "execute_result",
          "data": {
            "text/plain": [
              "array(['STAY', 'LEAVE', 'STAY', 'LEAVE', 'STAY'], dtype='<U5')"
            ]
          },
          "metadata": {},
          "execution_count": 74
        }
      ]
    },
    {
      "cell_type": "markdown",
      "source": [
        "Code explanation:\n",
        "\n",
        "- `pred_prob[:,0]`: This is array indexing in NumPy. `:` means \"all rows.\" `0` means \"first column\" (remember, indexing starts at 0)\n",
        "\n",
        "- `pred_prob[:,0] > 0.7`: This creates a boolean array, comparing each value in the selected column to 0.7.\n",
        "\n",
        "- `np.where()`: This is a NumPy function that works like `IF` in Excel to return elements chosen from two options based on a condition. It takes three arguments: condition, x, y.  Where the condition (`pred_prob[:,0] > 0.7`) is True, \"LEAVE\" will be used. Where the condition is False, \"STAY\" will be used."
      ],
      "metadata": {
        "id": "wHN1tUvkCsPF"
      }
    },
    {
      "cell_type": "markdown",
      "source": [
        "3. Calculate profit using `pred_labels`"
      ],
      "metadata": {
        "id": "7jN61fodErVH"
      }
    },
    {
      "cell_type": "code",
      "source": [
        "# Create a confusion matrix using these new labels\n",
        "\n",
        "ConfusionMatrixDisplay.from_predictions(y_test, pred_labels)"
      ],
      "metadata": {
        "id": "SPAVwlnnCqp6",
        "colab": {
          "base_uri": "https://localhost:8080/",
          "height": 485
        },
        "outputId": "2d98821c-6832-4681-dab2-7c87c1bf6a17"
      },
      "execution_count": null,
      "outputs": [
        {
          "output_type": "execute_result",
          "data": {
            "text/plain": [
              "<sklearn.metrics._plot.confusion_matrix.ConfusionMatrixDisplay at 0x78b078642d40>"
            ]
          },
          "metadata": {},
          "execution_count": 75
        },
        {
          "output_type": "display_data",
          "data": {
            "text/plain": [
              "<Figure size 640x480 with 2 Axes>"
            ],
            "image/png": "[encoded data removed]"
          },
          "metadata": {}
        }
      ]
    },
    {
      "cell_type": "code",
      "source": [
        "# Calculate profit\n",
        "\n",
        "(800-200)*195 -200 * 55"
      ],
      "metadata": {
        "id": "7QVYZ9kpFmsR",
        "colab": {
          "base_uri": "https://localhost:8080/"
        },
        "outputId": "27aef9aa-8ce2-4cb8-b9b1-138f111130f1"
      },
      "execution_count": null,
      "outputs": [
        {
          "output_type": "execute_result",
          "data": {
            "text/plain": [
              "106000"
            ]
          },
          "metadata": {},
          "execution_count": 76
        }
      ]
    },
    {
      "cell_type": "markdown",
      "source": [
        "# Your Turn:\n",
        "\n",
        "Try a threshold of .3."
      ],
      "metadata": {
        "id": "q2GdjFWPGMqt"
      }
    },
    {
      "cell_type": "code",
      "source": [
        "# Predict probabilities for X_test\n",
        "pred_labels = np.where(pred_prob[:,0] > 0.3, \"LEAVE\", \"STAY\")\n",
        "\n",
        "# Check that it worked\n",
        "pred_labels[:5,]"
      ],
      "metadata": {
        "id": "94FzbluKGY4E",
        "colab": {
          "base_uri": "https://localhost:8080/"
        },
        "outputId": "db3f2523-b941-457e-ba7a-6a1570069342"
      },
      "execution_count": null,
      "outputs": [
        {
          "output_type": "execute_result",
          "data": {
            "text/plain": [
              "array(['STAY', 'LEAVE', 'LEAVE', 'LEAVE', 'LEAVE'], dtype='<U5')"
            ]
          },
          "metadata": {},
          "execution_count": 77
        }
      ]
    },
    {
      "cell_type": "code",
      "source": [
        "# Create a confusion matrix using these new labels\n",
        "ConfusionMatrixDisplay.from_predictions(y_test, pred_labels)"
      ],
      "metadata": {
        "id": "HCRX37rlI-qA",
        "colab": {
          "base_uri": "https://localhost:8080/",
          "height": 485
        },
        "outputId": "dfe687e0-3a40-4efd-a83a-686d4b66e26c"
      },
      "execution_count": null,
      "outputs": [
        {
          "output_type": "execute_result",
          "data": {
            "text/plain": [
              "<sklearn.metrics._plot.confusion_matrix.ConfusionMatrixDisplay at 0x78b073b41f30>"
            ]
          },
          "metadata": {},
          "execution_count": 78
        },
        {
          "output_type": "display_data",
          "data": {
            "text/plain": [
              "<Figure size 640x480 with 2 Axes>"
            ],
            "image/png": "[encoded data removed]"
          },
          "metadata": {}
        }
      ]
    },
    {
      "cell_type": "code",
      "source": [
        "# Calculate profit\n",
        "\n",
        "440*600 - 200*347"
      ],
      "metadata": {
        "id": "k62R1UZQGzWV",
        "colab": {
          "base_uri": "https://localhost:8080/"
        },
        "outputId": "2fd2204d-c91c-4b58-e520-6c23a90f33b0"
      },
      "execution_count": null,
      "outputs": [
        {
          "output_type": "execute_result",
          "data": {
            "text/plain": [
              "194600"
            ]
          },
          "metadata": {},
          "execution_count": 79
        }
      ]
    },
    {
      "cell_type": "markdown",
      "source": [
        "#class decision threshold\n",
        "the way we convert probabilities into labels. Inreasing the threshold gives us different sets"
      ],
      "metadata": {
        "id": "wuF9_tZGfoyr"
      }
    },
    {
      "cell_type": "markdown",
      "source": [
        "**Make a comment.**\n",
        "\n",
        "Compare this strategy with:\n",
        "1. targeting everyone\n",
        "2. targeting .5 and above\n",
        "3. targeting .7 and above"
      ],
      "metadata": {
        "id": "j_fscC2mIU4m"
      }
    },
    {
      "cell_type": "markdown",
      "source": [
        "# Mini Project\n",
        "\n",
        "Using the Default data for yesterday's lab create a profit matrix for 3 different class decision thresholds:  .2, .5 and .7.\n",
        "\n",
        "Cost:  100 dollars to restructure the loan.\n",
        "\n",
        "Benefit: 1000 to prevent the default.\n",
        "\n",
        "Note: this will entail fitting a model and predicting for a test set."
      ],
      "metadata": {
        "id": "ZRutG7J0IHMS"
      }
    },
    {
      "cell_type": "code",
      "source": [
        "d = pd.read_csv(\"https://raw.githubusercontent.com/jefftwebb/IS_4487_Tokyo/main/Default.csv\")\n"
      ],
      "metadata": {
        "id": "qfEjROOaJWVI"
      },
      "execution_count": null,
      "outputs": []
    },
    {
      "cell_type": "code",
      "source": [
        "#make a copy\n",
        "d_model = d.copy()"
      ],
      "metadata": {
        "id": "MZYZRsuffITs"
      },
      "execution_count": null,
      "outputs": []
    },
    {
      "cell_type": "code",
      "source": [
        "#view data\n",
        "d.copy()"
      ],
      "metadata": {
        "colab": {
          "base_uri": "https://localhost:8080/",
          "height": 424
        },
        "id": "s-yOqa2NgQLc",
        "outputId": "391e7f1e-4086-4d99-8136-96b7025e0bfc"
      },
      "execution_count": null,
      "outputs": [
        {
          "output_type": "execute_result",
          "data": {
            "text/plain": [
              "         id default student      balance       income\n",
              "0         1      No      No   729.526495  44361.62507\n",
              "1         2      No     Yes   817.180407  12106.13470\n",
              "2         3      No      No  1073.549164  31767.13895\n",
              "3         4      No      No   529.250605  35704.49394\n",
              "4         5      No      No   785.655883  38463.49588\n",
              "...     ...     ...     ...          ...          ...\n",
              "9995   9996      No      No   711.555020  52992.37891\n",
              "9996   9997      No      No   757.962918  19660.72177\n",
              "9997   9998      No      No   845.411989  58636.15698\n",
              "9998   9999      No      No  1569.009053  36669.11236\n",
              "9999  10000      No     Yes   200.922183  16862.95232\n",
              "\n",
              "[10000 rows x 5 columns]"
            ],
            "text/html": [
              "\n",
              "  <div id=\"df-0da8b3ed-b92d-435e-b116-8ef6395f3673\" class=\"colab-df-container\">\n",
              "    <div>\n",
              "<style scoped>\n",
              "    .dataframe tbody tr th:only-of-type {\n",
              "        vertical-align: middle;\n",
              "    }\n",
              "\n",
              "    .dataframe tbody tr th {\n",
              "        vertical-align: top;\n",
              "    }\n",
              "\n",
              "    .dataframe thead th {\n",
              "        text-align: right;\n",
              "    }\n",
              "</style>\n",
              "<table border=\"1\" class=\"dataframe\">\n",
              "  <thead>\n",
              "    <tr style=\"text-align: right;\">\n",
              "      <th></th>\n",
              "      <th>id</th>\n",
              "      <th>default</th>\n",
              "      <th>student</th>\n",
              "      <th>balance</th>\n",
              "      <th>income</th>\n",
              "    </tr>\n",
              "  </thead>\n",
              "  <tbody>\n",
              "    <tr>\n",
              "      <th>0</th>\n",
              "      <td>1</td>\n",
              "      <td>No</td>\n",
              "      <td>No</td>\n",
              "      <td>729.526495</td>\n",
              "      <td>44361.62507</td>\n",
              "    </tr>\n",
              "    <tr>\n",
              "      <th>1</th>\n",
              "      <td>2</td>\n",
              "      <td>No</td>\n",
              "      <td>Yes</td>\n",
              "      <td>817.180407</td>\n",
              "      <td>12106.13470</td>\n",
              "    </tr>\n",
              "    <tr>\n",
              "      <th>2</th>\n",
              "      <td>3</td>\n",
              "      <td>No</td>\n",
              "      <td>No</td>\n",
              "      <td>1073.549164</td>\n",
              "      <td>31767.13895</td>\n",
              "    </tr>\n",
              "    <tr>\n",
              "      <th>3</th>\n",
              "      <td>4</td>\n",
              "      <td>No</td>\n",
              "      <td>No</td>\n",
              "      <td>529.250605</td>\n",
              "      <td>35704.49394</td>\n",
              "    </tr>\n",
              "    <tr>\n",
              "      <th>4</th>\n",
              "      <td>5</td>\n",
              "      <td>No</td>\n",
              "      <td>No</td>\n",
              "      <td>785.655883</td>\n",
              "      <td>38463.49588</td>\n",
              "    </tr>\n",
              "    <tr>\n",
              "      <th>...</th>\n",
              "      <td>...</td>\n",
              "      <td>...</td>\n",
              "      <td>...</td>\n",
              "      <td>...</td>\n",
              "      <td>...</td>\n",
              "    </tr>\n",
              "    <tr>\n",
              "      <th>9995</th>\n",
              "      <td>9996</td>\n",
              "      <td>No</td>\n",
              "      <td>No</td>\n",
              "      <td>711.555020</td>\n",
              "      <td>52992.37891</td>\n",
              "    </tr>\n",
              "    <tr>\n",
              "      <th>9996</th>\n",
              "      <td>9997</td>\n",
              "      <td>No</td>\n",
              "      <td>No</td>\n",
              "      <td>757.962918</td>\n",
              "      <td>19660.72177</td>\n",
              "    </tr>\n",
              "    <tr>\n",
              "      <th>9997</th>\n",
              "      <td>9998</td>\n",
              "      <td>No</td>\n",
              "      <td>No</td>\n",
              "      <td>845.411989</td>\n",
              "      <td>58636.15698</td>\n",
              "    </tr>\n",
              "    <tr>\n",
              "      <th>9998</th>\n",
              "      <td>9999</td>\n",
              "      <td>No</td>\n",
              "      <td>No</td>\n",
              "      <td>1569.009053</td>\n",
              "      <td>36669.11236</td>\n",
              "    </tr>\n",
              "    <tr>\n",
              "      <th>9999</th>\n",
              "      <td>10000</td>\n",
              "      <td>No</td>\n",
              "      <td>Yes</td>\n",
              "      <td>200.922183</td>\n",
              "      <td>16862.95232</td>\n",
              "    </tr>\n",
              "  </tbody>\n",
              "</table>\n",
              "<p>10000 rows × 5 columns</p>\n",
              "</div>\n",
              "    <div class=\"colab-df-buttons\">\n",
              "\n",
              "  <div class=\"colab-df-container\">\n",
              "    <button class=\"colab-df-convert\" onclick=\"convertToInteractive('df-0da8b3ed-b92d-435e-b116-8ef6395f3673')\"\n",
              "            title=\"Convert this dataframe to an interactive table.\"\n",
              "            style=\"display:none;\">\n",
              "\n",
              "  <svg xmlns=\"http://www.w3.org/2000/svg\" height=\"24px\" viewBox=\"0 -960 960 960\">\n",
              "    <path d=\"M120-120v-720h720v720H120Zm60-500h600v-160H180v160Zm220 220h160v-160H400v160Zm0 220h160v-160H400v160ZM180-400h160v-160H180v160Zm440 0h160v-160H620v160ZM180-180h160v-160H180v160Zm440 0h160v-160H620v160Z\"/>\n",
              "  </svg>\n",
              "    </button>\n",
              "\n",
              "  <style>\n",
              "    .colab-df-container {\n",
              "      display:flex;\n",
              "      gap: 12px;\n",
              "    }\n",
              "\n",
              "    .colab-df-convert {\n",
              "      background-color: #E8F0FE;\n",
              "      border: none;\n",
              "      border-radius: 50%;\n",
              "      cursor: pointer;\n",
              "      display: none;\n",
              "      fill: #1967D2;\n",
              "      height: 32px;\n",
              "      padding: 0 0 0 0;\n",
              "      width: 32px;\n",
              "    }\n",
              "\n",
              "    .colab-df-convert:hover {\n",
              "      background-color: #E2EBFA;\n",
              "      box-shadow: 0px 1px 2px rgba(60, 64, 67, 0.3), 0px 1px 3px 1px rgba(60, 64, 67, 0.15);\n",
              "      fill: #174EA6;\n",
              "    }\n",
              "\n",
              "    .colab-df-buttons div {\n",
              "      margin-bottom: 4px;\n",
              "    }\n",
              "\n",
              "    [theme=dark] .colab-df-convert {\n",
              "      background-color: #3B4455;\n",
              "      fill: #D2E3FC;\n",
              "    }\n",
              "\n",
              "    [theme=dark] .colab-df-convert:hover {\n",
              "      background-color: #434B5C;\n",
              "      box-shadow: 0px 1px 3px 1px rgba(0, 0, 0, 0.15);\n",
              "      filter: drop-shadow(0px 1px 2px rgba(0, 0, 0, 0.3));\n",
              "      fill: #FFFFFF;\n",
              "    }\n",
              "  </style>\n",
              "\n",
              "    <script>\n",
              "      const buttonEl =\n",
              "        document.querySelector('#df-0da8b3ed-b92d-435e-b116-8ef6395f3673 button.colab-df-convert');\n",
              "      buttonEl.style.display =\n",
              "        google.colab.kernel.accessAllowed ? 'block' : 'none';\n",
              "\n",
              "      async function convertToInteractive(key) {\n",
              "        const element = document.querySelector('#df-0da8b3ed-b92d-435e-b116-8ef6395f3673');\n",
              "        const dataTable =\n",
              "          await google.colab.kernel.invokeFunction('convertToInteractive',\n",
              "                                                    [key], {});\n",
              "        if (!dataTable) return;\n",
              "\n",
              "        const docLinkHtml = 'Like what you see? Visit the ' +\n",
              "          '<a target=\"_blank\" href=https://colab.research.google.com/notebooks/data_table.ipynb>data table notebook</a>'\n",
              "          + ' to learn more about interactive tables.';\n",
              "        element.innerHTML = '';\n",
              "        dataTable['output_type'] = 'display_data';\n",
              "        await google.colab.output.renderOutput(dataTable, element);\n",
              "        const docLink = document.createElement('div');\n",
              "        docLink.innerHTML = docLinkHtml;\n",
              "        element.appendChild(docLink);\n",
              "      }\n",
              "    </script>\n",
              "  </div>\n",
              "\n",
              "\n",
              "<div id=\"df-71f8b16e-74ce-458c-b1b1-8e7d851b1693\">\n",
              "  <button class=\"colab-df-quickchart\" onclick=\"quickchart('df-71f8b16e-74ce-458c-b1b1-8e7d851b1693')\"\n",
              "            title=\"Suggest charts\"\n",
              "            style=\"display:none;\">\n",
              "\n",
              "<svg xmlns=\"http://www.w3.org/2000/svg\" height=\"24px\"viewBox=\"0 0 24 24\"\n",
              "     width=\"24px\">\n",
              "    <g>\n",
              "        <path d=\"M19 3H5c-1.1 0-2 .9-2 2v14c0 1.1.9 2 2 2h14c1.1 0 2-.9 2-2V5c0-1.1-.9-2-2-2zM9 17H7v-7h2v7zm4 0h-2V7h2v10zm4 0h-2v-4h2v4z\"/>\n",
              "    </g>\n",
              "</svg>\n",
              "  </button>\n",
              "\n",
              "<style>\n",
              "  .colab-df-quickchart {\n",
              "      --bg-color: #E8F0FE;\n",
              "      --fill-color: #1967D2;\n",
              "      --hover-bg-color: #E2EBFA;\n",
              "      --hover-fill-color: #174EA6;\n",
              "      --disabled-fill-color: #AAA;\n",
              "      --disabled-bg-color: #DDD;\n",
              "  }\n",
              "\n",
              "  [theme=dark] .colab-df-quickchart {\n",
              "      --bg-color: #3B4455;\n",
              "      --fill-color: #D2E3FC;\n",
              "      --hover-bg-color: #434B5C;\n",
              "      --hover-fill-color: #FFFFFF;\n",
              "      --disabled-bg-color: #3B4455;\n",
              "      --disabled-fill-color: #666;\n",
              "  }\n",
              "\n",
              "  .colab-df-quickchart {\n",
              "    background-color: var(--bg-color);\n",
              "    border: none;\n",
              "    border-radius: 50%;\n",
              "    cursor: pointer;\n",
              "    display: none;\n",
              "    fill: var(--fill-color);\n",
              "    height: 32px;\n",
              "    padding: 0;\n",
              "    width: 32px;\n",
              "  }\n",
              "\n",
              "  .colab-df-quickchart:hover {\n",
              "    background-color: var(--hover-bg-color);\n",
              "    box-shadow: 0 1px 2px rgba(60, 64, 67, 0.3), 0 1px 3px 1px rgba(60, 64, 67, 0.15);\n",
              "    fill: var(--button-hover-fill-color);\n",
              "  }\n",
              "\n",
              "  .colab-df-quickchart-complete:disabled,\n",
              "  .colab-df-quickchart-complete:disabled:hover {\n",
              "    background-color: var(--disabled-bg-color);\n",
              "    fill: var(--disabled-fill-color);\n",
              "    box-shadow: none;\n",
              "  }\n",
              "\n",
              "  .colab-df-spinner {\n",
              "    border: 2px solid var(--fill-color);\n",
              "    border-color: transparent;\n",
              "    border-bottom-color: var(--fill-color);\n",
              "    animation:\n",
              "      spin 1s steps(1) infinite;\n",
              "  }\n",
              "\n",
              "  @keyframes spin {\n",
              "    0% {\n",
              "      border-color: transparent;\n",
              "      border-bottom-color: var(--fill-color);\n",
              "      border-left-color: var(--fill-color);\n",
              "    }\n",
              "    20% {\n",
              "      border-color: transparent;\n",
              "      border-left-color: var(--fill-color);\n",
              "      border-top-color: var(--fill-color);\n",
              "    }\n",
              "    30% {\n",
              "      border-color: transparent;\n",
              "      border-left-color: var(--fill-color);\n",
              "      border-top-color: var(--fill-color);\n",
              "      border-right-color: var(--fill-color);\n",
              "    }\n",
              "    40% {\n",
              "      border-color: transparent;\n",
              "      border-right-color: var(--fill-color);\n",
              "      border-top-color: var(--fill-color);\n",
              "    }\n",
              "    60% {\n",
              "      border-color: transparent;\n",
              "      border-right-color: var(--fill-color);\n",
              "    }\n",
              "    80% {\n",
              "      border-color: transparent;\n",
              "      border-right-color: var(--fill-color);\n",
              "      border-bottom-color: var(--fill-color);\n",
              "    }\n",
              "    90% {\n",
              "      border-color: transparent;\n",
              "      border-bottom-color: var(--fill-color);\n",
              "    }\n",
              "  }\n",
              "</style>\n",
              "\n",
              "  <script>\n",
              "    async function quickchart(key) {\n",
              "      const quickchartButtonEl =\n",
              "        document.querySelector('#' + key + ' button');\n",
              "      quickchartButtonEl.disabled = true;  // To prevent multiple clicks.\n",
              "      quickchartButtonEl.classList.add('colab-df-spinner');\n",
              "      try {\n",
              "        const charts = await google.colab.kernel.invokeFunction(\n",
              "            'suggestCharts', [key], {});\n",
              "      } catch (error) {\n",
              "        console.error('Error during call to suggestCharts:', error);\n",
              "      }\n",
              "      quickchartButtonEl.classList.remove('colab-df-spinner');\n",
              "      quickchartButtonEl.classList.add('colab-df-quickchart-complete');\n",
              "    }\n",
              "    (() => {\n",
              "      let quickchartButtonEl =\n",
              "        document.querySelector('#df-71f8b16e-74ce-458c-b1b1-8e7d851b1693 button');\n",
              "      quickchartButtonEl.style.display =\n",
              "        google.colab.kernel.accessAllowed ? 'block' : 'none';\n",
              "    })();\n",
              "  </script>\n",
              "</div>\n",
              "\n",
              "    </div>\n",
              "  </div>\n"
            ],
            "application/vnd.google.colaboratory.intrinsic+json": {
              "type": "dataframe",
              "summary": "{\n  \"name\": \"d\",\n  \"rows\": 10000,\n  \"fields\": [\n    {\n      \"column\": \"id\",\n      \"properties\": {\n        \"dtype\": \"number\",\n        \"std\": 2886,\n        \"min\": 1,\n        \"max\": 10000,\n        \"num_unique_values\": 10000,\n        \"samples\": [\n          6253,\n          4685,\n          1732\n        ],\n        \"semantic_type\": \"\",\n        \"description\": \"\"\n      }\n    },\n    {\n      \"column\": \"default\",\n      \"properties\": {\n        \"dtype\": \"category\",\n        \"num_unique_values\": 2,\n        \"samples\": [\n          \"Yes\",\n          \"No\"\n        ],\n        \"semantic_type\": \"\",\n        \"description\": \"\"\n      }\n    },\n    {\n      \"column\": \"student\",\n      \"properties\": {\n        \"dtype\": \"category\",\n        \"num_unique_values\": 2,\n        \"samples\": [\n          \"Yes\",\n          \"No\"\n        ],\n        \"semantic_type\": \"\",\n        \"description\": \"\"\n      }\n    },\n    {\n      \"column\": \"balance\",\n      \"properties\": {\n        \"dtype\": \"number\",\n        \"std\": 483.71498521032953,\n        \"min\": 0.0,\n        \"max\": 2654.322576,\n        \"num_unique_values\": 9502,\n        \"samples\": [\n          245.3464925,\n          186.5235201\n        ],\n        \"semantic_type\": \"\",\n        \"description\": \"\"\n      }\n    },\n    {\n      \"column\": \"income\",\n      \"properties\": {\n        \"dtype\": \"number\",\n        \"std\": 13336.639562731905,\n        \"min\": 771.9677294,\n        \"max\": 73554.2335,\n        \"num_unique_values\": 10000,\n        \"samples\": [\n          31507.08928,\n          42139.07027\n        ],\n        \"semantic_type\": \"\",\n        \"description\": \"\"\n      }\n    }\n  ]\n}"
            }
          },
          "metadata": {},
          "execution_count": 82
        }
      ]
    },
    {
      "cell_type": "code",
      "source": [
        "#drop id\n",
        "d_model = d_model.drop(['id'], axis = 1)"
      ],
      "metadata": {
        "id": "hqAnIEnGgcRm"
      },
      "execution_count": null,
      "outputs": []
    },
    {
      "cell_type": "code",
      "source": [
        "#make student and default numeric\n",
        "d_model['student'] = d_model['student'].replace({'Yes': 1, 'No': 0})\n",
        "d_model['default'] = d_model['default'].replace({'Yes': 1, 'No': 0})"
      ],
      "metadata": {
        "id": "bYJm_zzggpLp"
      },
      "execution_count": null,
      "outputs": []
    },
    {
      "cell_type": "code",
      "source": [
        "#divide d_clean into train and test\n",
        "train = d_model.sample(frac=0.8, random_state=200) # 80% of data for training\n",
        "test = d_model.drop(train.index) # the remaining 20%\n",
        "\n",
        "x_train = train.drop(['default'], axis = 1)\n",
        "y_train = train['default']\n",
        "\n",
        "x_test = test.drop(['default'], axis = 1) # Make sure x_test is derived from 'test'\n",
        "y_test = test['default']\n",
        "\n",
        "#fit the model on the train set\n",
        "d_model = DecisionTreeClassifier(criterion = \"entropy\", max_depth = 4)\n",
        "d_model = d_model.fit(x_train, y_train)"
      ],
      "metadata": {
        "id": "Y1C-TjO5gu91"
      },
      "execution_count": null,
      "outputs": []
    },
    {
      "cell_type": "markdown",
      "source": [
        "**Comment**: which class decision threshold is best for optimzing the company's profit?"
      ],
      "metadata": {
        "id": "SREtvhONJZCL"
      }
    },
    {
      "cell_type": "code",
      "source": [
        "#get predicted labels (probability of default >.5)\n",
        "pred_labels = d_model.predict(x_test) # Remove the keyword argument 'x'\n",
        "pred_labels[:20,]"
      ],
      "metadata": {
        "colab": {
          "base_uri": "https://localhost:8080/"
        },
        "id": "ZgZ7tRVNh0rk",
        "outputId": "78b53e3f-e634-468a-f9bf-fc1301c73d5c"
      },
      "execution_count": null,
      "outputs": [
        {
          "output_type": "execute_result",
          "data": {
            "text/plain": [
              "array([0, 0, 0, 0, 0, 0, 0, 0, 0, 0, 0, 0, 0, 0, 0, 0, 0, 0, 0, 0])"
            ]
          },
          "metadata": {},
          "execution_count": 86
        }
      ]
    },
    {
      "cell_type": "code",
      "source": [
        "# predict probabilites\n",
        "pred_prob = d_model.predict_proba(x_test)\n",
        "\n",
        "pred_labels = np.where(pred_prob[:,0] < 0.5, 1, 0)\n",
        "pred_labels[:20,]"
      ],
      "metadata": {
        "colab": {
          "base_uri": "https://localhost:8080/"
        },
        "id": "lLK__zroioGi",
        "outputId": "aae59382-8230-425a-a29a-146ba4041783"
      },
      "execution_count": null,
      "outputs": [
        {
          "output_type": "execute_result",
          "data": {
            "text/plain": [
              "array([0, 0, 0, 0, 0, 0, 0, 0, 0, 0, 0, 0, 0, 0, 0, 0, 0, 0, 0, 0])"
            ]
          },
          "metadata": {},
          "execution_count": 87
        }
      ]
    },
    {
      "cell_type": "code",
      "source": [
        "#generate the confusion matrix\n",
        "ConfusionMatrixDisplay.from_predictions(y_test, pred_labels)"
      ],
      "metadata": {
        "colab": {
          "base_uri": "https://localhost:8080/",
          "height": 485
        },
        "id": "L9o7gYd4odVw",
        "outputId": "1d8bf25d-9f67-4dd5-cde4-407646347003"
      },
      "execution_count": null,
      "outputs": [
        {
          "output_type": "execute_result",
          "data": {
            "text/plain": [
              "<sklearn.metrics._plot.confusion_matrix.ConfusionMatrixDisplay at 0x78b078643c40>"
            ]
          },
          "metadata": {},
          "execution_count": 88
        },
        {
          "output_type": "display_data",
          "data": {
            "text/plain": [
              "<Figure size 640x480 with 2 Axes>"
            ],
            "image/png": "[encoded data removed]"
          },
          "metadata": {}
        }
      ]
    },
    {
      "cell_type": "code",
      "source": [
        "#calculate profit\n",
        "11*900 - 6*100"
      ],
      "metadata": {
        "colab": {
          "base_uri": "https://localhost:8080/"
        },
        "id": "PoanSymkis6W",
        "outputId": "b877296c-2d25-44bc-de5e-6c620410662c"
      },
      "execution_count": null,
      "outputs": [
        {
          "output_type": "execute_result",
          "data": {
            "text/plain": [
              "9300"
            ]
          },
          "metadata": {},
          "execution_count": 89
        }
      ]
    },
    {
      "cell_type": "code",
      "source": [
        "#get predifted labels at 0.7\n",
        "pred_labels = d_model.predict(x_test)\n",
        "pred_labels[:20,]"
      ],
      "metadata": {
        "colab": {
          "base_uri": "https://localhost:8080/"
        },
        "id": "xPONvh84iyzb",
        "outputId": "390342c6-613b-4a67-b20e-9a98d4e7ea16"
      },
      "execution_count": null,
      "outputs": [
        {
          "output_type": "execute_result",
          "data": {
            "text/plain": [
              "array([0, 0, 0, 0, 0, 0, 0, 0, 0, 0, 0, 0, 0, 0, 0, 0, 0, 0, 0, 0])"
            ]
          },
          "metadata": {},
          "execution_count": 90
        }
      ]
    },
    {
      "cell_type": "code",
      "source": [
        "# predict probabilites\n",
        "pred_prob = d_model.predict_proba(x_test)\n",
        "\n",
        "pred_labels = np.where(pred_prob[:,0] < 0.7, 1, 0)\n",
        "pred_labels[:20,]"
      ],
      "metadata": {
        "colab": {
          "base_uri": "https://localhost:8080/"
        },
        "id": "hI535UYjo3lc",
        "outputId": "6dcb5b80-bf1f-4319-fec9-d3f05139f7b8"
      },
      "execution_count": null,
      "outputs": [
        {
          "output_type": "execute_result",
          "data": {
            "text/plain": [
              "array([0, 0, 0, 0, 0, 0, 0, 0, 0, 0, 0, 0, 0, 0, 0, 0, 0, 0, 0, 0])"
            ]
          },
          "metadata": {},
          "execution_count": 91
        }
      ]
    },
    {
      "cell_type": "code",
      "source": [
        "#generate the confusion matrix\n",
        "ConfusionMatrixDisplay.from_predictions(y_test, pred_labels)"
      ],
      "metadata": {
        "colab": {
          "base_uri": "https://localhost:8080/",
          "height": 485
        },
        "id": "H0CdsZiQi5UW",
        "outputId": "8fc0e723-b37a-47b4-98c2-ba4d817235a9"
      },
      "execution_count": null,
      "outputs": [
        {
          "output_type": "execute_result",
          "data": {
            "text/plain": [
              "<sklearn.metrics._plot.confusion_matrix.ConfusionMatrixDisplay at 0x78b073c5d0f0>"
            ]
          },
          "metadata": {},
          "execution_count": 92
        },
        {
          "output_type": "display_data",
          "data": {
            "text/plain": [
              "<Figure size 640x480 with 2 Axes>"
            ],
            "image/png": "[encoded data removed]"
          },
          "metadata": {}
        }
      ]
    },
    {
      "cell_type": "code",
      "source": [
        "# calculate profit\n",
        "27*900 - 31*100"
      ],
      "metadata": {
        "colab": {
          "base_uri": "https://localhost:8080/"
        },
        "id": "iImV-4txi9Wq",
        "outputId": "455bd758-eca8-4b20-a69d-4467ce42c7a0"
      },
      "execution_count": null,
      "outputs": [
        {
          "output_type": "execute_result",
          "data": {
            "text/plain": [
              "21200"
            ]
          },
          "metadata": {},
          "execution_count": 93
        }
      ]
    },
    {
      "cell_type": "code",
      "source": [
        "#get predicted labels at 0.2\n",
        "pred_labels = d_model.predict(x_test)\n",
        "pred_labels[:20,]"
      ],
      "metadata": {
        "colab": {
          "base_uri": "https://localhost:8080/"
        },
        "id": "zDVI_K00jERA",
        "outputId": "15555480-1a29-438b-b47b-d87e44b3c0f8"
      },
      "execution_count": null,
      "outputs": [
        {
          "output_type": "execute_result",
          "data": {
            "text/plain": [
              "array([0, 0, 0, 0, 0, 0, 0, 0, 0, 0, 0, 0, 0, 0, 0, 0, 0, 0, 0, 0])"
            ]
          },
          "metadata": {},
          "execution_count": 94
        }
      ]
    },
    {
      "cell_type": "code",
      "source": [
        "# predict probabilites\n",
        "pred_prob = d_model.predict_proba(x_test)\n",
        "\n",
        "pred_labels = np.where(pred_prob[:,0] < 0.2, 1, 0)\n",
        "pred_labels[:20,]"
      ],
      "metadata": {
        "colab": {
          "base_uri": "https://localhost:8080/"
        },
        "id": "I296z4Uaqn-5",
        "outputId": "c23a422a-119b-40f9-8edd-8bf76f060581"
      },
      "execution_count": null,
      "outputs": [
        {
          "output_type": "execute_result",
          "data": {
            "text/plain": [
              "array([0, 0, 0, 0, 0, 0, 0, 0, 0, 0, 0, 0, 0, 0, 0, 0, 0, 0, 0, 0])"
            ]
          },
          "metadata": {},
          "execution_count": 95
        }
      ]
    },
    {
      "cell_type": "code",
      "source": [
        "#generate the confusion matrix\n",
        "ConfusionMatrixDisplay.from_predictions(y_test, pred_labels)"
      ],
      "metadata": {
        "colab": {
          "base_uri": "https://localhost:8080/",
          "height": 485
        },
        "id": "GgNZ-IywjLHz",
        "outputId": "8f66b427-d626-45ab-b0ec-0fff1061f8c3"
      },
      "execution_count": null,
      "outputs": [
        {
          "output_type": "execute_result",
          "data": {
            "text/plain": [
              "<sklearn.metrics._plot.confusion_matrix.ConfusionMatrixDisplay at 0x78b073526440>"
            ]
          },
          "metadata": {},
          "execution_count": 96
        },
        {
          "output_type": "display_data",
          "data": {
            "text/plain": [
              "<Figure size 640x480 with 2 Axes>"
            ],
            "image/png": "[encoded data removed]"
          },
          "metadata": {}
        }
      ]
    },
    {
      "cell_type": "code",
      "source": [
        "#calculate prodit\n",
        "3 * 900 - 3 * 100"
      ],
      "metadata": {
        "colab": {
          "base_uri": "https://localhost:8080/"
        },
        "id": "oK586unsjQMT",
        "outputId": "5f53a8e7-8612-4b41-e43b-27e75b7f78cb"
      },
      "execution_count": null,
      "outputs": [
        {
          "output_type": "execute_result",
          "data": {
            "text/plain": [
              "2400"
            ]
          },
          "metadata": {},
          "execution_count": 97
        }
      ]
    }
  ],
  "metadata": {
    "colab": {
      "provenance": [],
      "toc_visible": true,
      "include_colab_link": true
    },
    "kernelspec": {
      "display_name": "Python 3",
      "name": "python3"
    },
    "language_info": {
      "name": "python"
    }
  },
  "nbformat": 4,
  "nbformat_minor": 0
}